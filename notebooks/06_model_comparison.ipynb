{
"cells": [
  {"cell_type":"markdown","metadata":{},"source":["# 06 Model Comparison\n","Load metrics, plot ROC/PR, compute significance tests (McNemar, bootstrap CIs)."]},
  {"cell_type":"code","metadata":{},"source":["!python scripts/compare_models.py"]}
 ]
 "metadata": {"kernelspec": {"display_name": "Python 3", "language": "python", "name": "python3"}},
 "nbformat": 4,
 "nbformat_minor": 5
}
