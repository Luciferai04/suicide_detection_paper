{
 "cells": [
  {"cell_type":"markdown","metadata":{},"source":["# Model Comparison and Statistical Testing\n","Aggregate metrics and generate summary report.\n"]},
  {"cell_type":"code","metadata":{},"execution_count":null,"outputs":[],"source":["!python scripts/compare_models.py\n","!python scripts/generate_report.py"]}
 ],
 "metadata": {"kernelspec":{"display_name":"Python 3","language":"python","name":"python3"},"language_info":{"name":"python","version":"3.10"}},
 "nbformat":4,
 "nbformat_minor":4
}
