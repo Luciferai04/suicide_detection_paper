{
 "cells": [
  {"cell_type":"markdown","metadata":{},"source":["# 06 Model Comparison\n","Load metrics, plot ROC/PR, compute significance tests (McNemar, bootstrap CIs)."]}
 ],
 "metadata": {"kernelspec": {"display_name": "Python 3", "language": "python", "name": "python3"}},
 "nbformat": 4,
 "nbformat_minor": 5
}
