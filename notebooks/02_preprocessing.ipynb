{
"cells": [
  {"cell_type":"markdown","metadata":{},"source":["# 02 Preprocessing\n","Ethics-first preprocessing: anonymization, cleaning, splits."]},
  {"cell_type":"code","metadata":{},"source":["from pathlib import Path\n","import pandas as pd\n","from suicide_detection.data_processing.load import load_dataset_secure\n","p = Path('data/raw/dataset.csv')\n","df = load_dataset_secure(p)\n","df.head()"]}
 ]
 "metadata": {"kernelspec": {"display_name": "Python 3", "language": "python", "name": "python3"}},
 "nbformat": 4,
 "nbformat_minor": 5
}
