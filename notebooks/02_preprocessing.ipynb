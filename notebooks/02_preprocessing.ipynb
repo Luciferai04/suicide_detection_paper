{
 "cells": [
  {
   "cell_type": "markdown",
   "metadata": {},
   "source": [
    "# Preprocessing Pipeline\n",
    "\n",
    "Ethical, privacy-preserving text normalization for social media.\n"
   ]
  },
  {
   "cell_type": "code",
   "execution_count": null,
   "metadata": {},
   "outputs": [],
   "source": [
    "from pathlib import Path\n",
    "\n",
    "import pandas as pd\n",
    "\n",
    "from suicide_detection.data_processing.cleaning import CleanConfig, build_cleaner\n",
    "from suicide_detection.data_processing.load import load_dataset_secure\n",
    "\n",
    "p_proc = Path('../data/processed/dataset.csv')\n",
    "p_raw = Path('../data/raw/dataset.csv')\n",
    "df = (pd.read_csv(p_proc) if p_proc.exists() else load_dataset_secure(p_raw))\n",
    "df.head(2)"
   ]
  },
  {
   "cell_type": "code",
   "execution_count": null,
   "metadata": {},
   "outputs": [],
   "source": [
    "cfg = CleanConfig(lowercase=True, expand_contractions=True, squeeze_elongations=True)\n",
    "clean = build_cleaner(cfg)\n",
    "df['text_clean'] = df['text'].astype(str).map(clean)\n",
    "df[['text','text_clean']].head(5)"
   ]
  },
  {
   "cell_type": "markdown",
   "metadata": {},
   "source": [
    "## Next: Train models with balanced strategies\n",
    "Downstream scripts handle SMOTE/class weights; see training CLI."
   ]
  }
 ],
 "metadata": {
  "kernelspec": {
   "display_name": "Python 3",
   "language": "python",
   "name": "python3"
  },
  "language_info": {
   "name": "python",
   "version": "3.10"
  }
 },
 "nbformat": 4,
 "nbformat_minor": 4
}
