{
 "cells": [
  {
   "cell_type": "markdown",
   "metadata": {},
   "source": [
    "# Data Exploration for Suicide Risk Detection\n",
    "\n",
    "Ethical note: This notebook analyzes sensitive mental health data for research purposes only. All outputs avoid raw, identifying content and maintain privacy."
   ]
  },
  {
   "cell_type": "code",
   "execution_count": null,
   "metadata": {},
   "outputs": [],
   "source": [
    "import pandas as pd\n",
    "import numpy as np\n",
    "import matplotlib.pyplot as plt\n",
    "import seaborn as sns\n",
    "from pathlib import Path\n",
    "from suicide_detection.data_processing.load import load_dataset_secure\n",
    "plt.style.use('seaborn-v0_8')\n",
    "sns.set_palette('husl')\n",
    "data_raw = Path('../data/raw/dataset.csv')\n",
    "data_proc = Path('../data/processed/dataset.csv')\n",
    "if data_proc.exists():\n",
    "    df = pd.read_csv(data_proc)\n",
    "elif data_raw.exists():\n",
    "    df = load_dataset_secure(data_raw)\n",
    "else:\n",
    "    # fallback tiny demo set\n",
    "    df = pd.read_csv('../data/sample/sample.csv')\n",
    "len(df), df.head()[:0]"
   ]
  },
  {
   "cell_type": "markdown",
   "metadata": {},
   "source": [
    "## Class distribution"
   ]
  },
  {
   "cell_type": "code",
   "execution_count": null,
   "metadata": {},
   "outputs": [],
   "source": [
    "cls = df['label'].value_counts().sort_index()\n",
    "fig, ax = plt.subplots(1,2, figsize=(10,4))\n",
    "cls.plot(kind='bar', ax=ax[0], color=['steelblue','salmon'])\n",
    "ax[0].set_title('Counts by class')\n",
    "ax[0].set_xlabel('Class (0=non-risk, 1=risk)')\n",
    "ax[0].set_ylabel('Count')\n",
    "ax[1].pie(cls.values, labels=['Non-risk','Risk'], autopct='%1.1f%%', startangle=90, colors=['steelblue','salmon'])\n",
    "ax[1].set_title('Proportions')\n",
    "plt.tight_layout(); plt.show()\n",
    "cls.to_dict()"
   ]
  },
  {
   "cell_type": "markdown",
   "metadata": {},
   "source": [
    "## Text length analysis"
   ]
  },
  {
   "cell_type": "code",
   "execution_count": null,
   "metadata": {},
   "outputs": [],
   "source": [
    "df['char_count'] = df['text'].astype(str).str.len()\n",
    "df['word_count'] = df['text'].astype(str).str.split().str.len()\n",
    "fig, ax = plt.subplots(1,2, figsize=(12,4))\n",
    "sns.kdeplot(data=df, x='char_count', hue='label', ax=ax[0])\n",
    "ax[0].set_title('Char length distribution by class')\n",
    "sns.kdeplot(data=df, x='word_count', hue='label', ax=ax[1])\n",
    "ax[1].set_title('Word length distribution by class')\n",
    "plt.tight_layout(); plt.show()\n",
    "df[['char_count','word_count']].describe()"
   ]
  },
  {
   "cell_type": "markdown",
   "metadata": {},
   "source": [
    "## PII residuals (should be minimal after anonymization)"
   ]
  },
  {
   "cell_type": "code",
   "execution_count": null,
   "metadata": {},
   "outputs": [],
   "source": [
    "patterns = {\n",
    " 'email': r"""[A-Za-z0-9._%+-]+@[A-Za-z0-9.-]+\\.[A-Za-z]{2,}""",\n",
    " 'url': r"""https?://\\S+|www\\.[^\\s]+""",\n",
    " 'mention': r"""@\\w+""",\n",
    " 'phone': r"""\\b(?:\\+?\\d{1,3}[\\s-]?)?(?:\\(?\\d{3}\\)?[\\s-]?)?\\d{3}[\\s-]?\\d{4}\\b""",\n",
    "}\n",
    "{k: int(df['text'].astype(str).str.contains(v, regex=True, na=False).sum()) for k,v in patterns.items()}"
   ]
  },
  {
   "cell_type": "markdown",
   "metadata": {},
   "source": [
    "## TF-IDF inspection (safe features only)"
   ]
  },
  {
   "cell_type": "code",
   "execution_count": null,
   "metadata": {},
   "outputs": [],
   "source": [
    "from sklearn.feature_extraction.text import TfidfVectorizer\n",
    "tfidf = TfidfVectorizer(max_features=1000, stop_words='english', ngram_range=(1,2))\n",
    "X = tfidf.fit_transform(df['text'].astype(str))\n",
    "feat = tfidf.get_feature_names_out()\n",
    "# Show a few non-sensitive high-weight features overall\n",
    "scores = np.asarray(X.mean(axis=0)).ravel()\n",
    "order = np.argsort(-scores)\n",
    "safe = [f for f in feat[order] if all(s not in f for s in ['suicide','kill','die','death'])][:15]\n",
    "safe"
   ]
  }
 ],
 "metadata": {
  "kernelspec": {"display_name": "Python 3", "language": "python", "name": "python3"},
  "language_info": {"name": "python", "version": "3.10"}
 },
 "nbformat": 4,
 "nbformat_minor": 4
}
