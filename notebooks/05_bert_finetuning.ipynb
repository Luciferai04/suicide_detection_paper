{
 "cells": [
  {"cell_type":"markdown","metadata":{},"source":["# 05 BERT/RoBERTa Fine-tuning\n","Clinical-focused evaluation and early stopping."]}
 ],
 "metadata": {"kernelspec": {"display_name": "Python 3", "language": "python", "name": "python3"}},
 "nbformat": 4,
 "nbformat_minor": 5
}
