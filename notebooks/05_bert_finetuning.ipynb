{
"cells": [
  {"cell_type":"markdown","metadata":{},"source":["# 05 BERT/RoBERTa Fine-tuning\n","Clinical-focused evaluation and early stopping."]},
  {"cell_type":"code","metadata":{},"source":["!python -m suicide_detection.training.train --model bert --data_path data/raw/dataset.csv --output_dir results/model_outputs/bert"]}
 ]
 "metadata": {"kernelspec": {"display_name": "Python 3", "language": "python", "name": "python3"}},
 "nbformat": 4,
 "nbformat_minor": 5
}
