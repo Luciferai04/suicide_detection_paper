{
 "cells": [
  {"cell_type":"markdown","metadata":{},"source":["# BERT/RoBERTa Fine-tuning\n","HuggingFace Trainer with early stopping and ROC/PR plots.\n"]},
  {"cell_type":"code","metadata":{},"execution_count":null,"outputs":[],"source":["!python -m suicide_detection.training.train --model bert --data_path ../data/processed/dataset.csv --output_dir ../results/model_outputs/bert"]}
 ],
 "metadata": {"kernelspec":{"display_name":"Python 3","language":"python","name":"python3"},"language_info":{"name":"python","version":"3.10"}},
 "nbformat":4,
 "nbformat_minor":4
}
