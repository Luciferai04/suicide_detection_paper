{
 "cells": [
  {"cell_type":"markdown","metadata":{},"source":["# Baseline: TF-IDF + SVM\n","Grid search and clinical metrics (cost-weighted accuracy, ROC/PR).\n"]},
  {"cell_type":"code","metadata":{},"execution_count":null,"outputs":[],"source":["!python -m suicide_detection.training.train --model svm --data_path ../data/processed/dataset.csv --output_dir ../results/model_outputs/svm"]}
 ],
 "metadata": {"kernelspec":{"display_name":"Python 3","language":"python","name":"python3"},"language_info":{"name":"python","version":"3.10"}},
 "nbformat":4,
 "nbformat_minor":4
}
