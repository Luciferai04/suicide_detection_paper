{
"cells": [
  {"cell_type":"markdown","metadata":{},"source":["# 03 Baseline SVM\n","TF-IDF + SVM with word+char features, grid search, and clinical metrics."]},
  {"cell_type":"code","metadata":{},"source":["!python -m suicide_detection.training.train --model svm --data_path data/raw/dataset.csv --output_dir results/model_outputs/svm"]}
 ]
 "metadata": {"kernelspec": {"display_name": "Python 3", "language": "python", "name": "python3"}},
 "nbformat": 4,
 "nbformat_minor": 5
}
