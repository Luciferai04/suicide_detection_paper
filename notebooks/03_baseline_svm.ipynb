{
 "cells": [
  {"cell_type":"markdown","metadata":{},"source":["# 03 Baseline SVM\n","TF-IDF + SVM with word+char features, grid search, and clinical metrics."]}
 ],
 "metadata": {"kernelspec": {"display_name": "Python 3", "language": "python", "name": "python3"}},
 "nbformat": 4,
 "nbformat_minor": 5
}
