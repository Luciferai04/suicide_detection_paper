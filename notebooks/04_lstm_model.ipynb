{
 "cells": [
  {"cell_type":"markdown","metadata":{},"source":["# BiLSTM with Attention\n","Includes attention weights for interpretability.\n"]},
  {"cell_type":"code","metadata":{},"execution_count":null,"outputs":[],"source":["!python -m suicide_detection.training.train --model bilstm --data_path ../data/processed/dataset.csv --output_dir ../results/model_outputs/bilstm"]}
 ],
 "metadata": {"kernelspec":{"display_name":"Python 3","language":"python","name":"python3"},"language_info":{"name":"python","version":"3.10"}},
 "nbformat":4,
 "nbformat_minor":4
}
