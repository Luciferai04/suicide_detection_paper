{
 "cells": [
  {"cell_type":"markdown","metadata":{},"source":["# 04 BiLSTM with Attention\n","Training and evaluation with attention visualization hooks."]}
 ],
 "metadata": {"kernelspec": {"display_name": "Python 3", "language": "python", "name": "python3"}},
 "nbformat": 4,
 "nbformat_minor": 5
}
