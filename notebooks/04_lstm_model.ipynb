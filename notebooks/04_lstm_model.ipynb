{
"cells": [
  {"cell_type":"markdown","metadata":{},"source":["# 04 BiLSTM with Attention\n","Training and evaluation with attention visualization hooks."]},
  {"cell_type":"code","metadata":{},"source":["!python -m suicide_detection.training.train --model bilstm --data_path data/raw/dataset.csv --output_dir results/model_outputs/bilstm"]}
 ]
 "metadata": {"kernelspec": {"display_name": "Python 3", "language": "python", "name": "python3"}},
 "nbformat": 4,
 "nbformat_minor": 5
}
